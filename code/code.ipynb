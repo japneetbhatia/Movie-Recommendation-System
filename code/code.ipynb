{
  "nbformat": 4,
  "nbformat_minor": 0,
  "metadata": {
    "kernelspec": {
      "display_name": "Python 3",
      "language": "python",
      "name": "python3"
    },
    "language_info": {
      "codemirror_mode": {
        "name": "ipython",
        "version": 3
      },
      "file_extension": ".py",
      "mimetype": "text/x-python",
      "name": "python",
      "nbconvert_exporter": "python",
      "pygments_lexer": "ipython3",
      "version": "3.7.6"
    },
    "colab": {
      "name": "MOVIE-RECOMMENDATION SYSTEM.ipynb",
      "provenance": []
    }
  },
  "cells": [
    {
      "cell_type": "markdown",
      "metadata": {
        "id": "vetETpEReesq"
      },
      "source": [
        "# AIM: Create a Recommendation Engine for movies for users based on there past behaviour.\n",
        "\n",
        "## Approach used : collaborative filtering approach\n",
        "### The user is recommended items that people with similar tastes and preferences liked in the past. In another word, this method predicts unknown ratings by using the similarities between users.\n",
        "\n"
      ]
    },
    {
      "cell_type": "markdown",
      "metadata": {
        "id": "pKbaL9Efeesv"
      },
      "source": [
        "\n",
        "## IMPORTING FILES"
      ]
    },
    {
      "cell_type": "code",
      "metadata": {
        "id": "bwNm_Wo-fbeK"
      },
      "source": [
        "!pip install surprise"
      ],
      "execution_count": null,
      "outputs": []
    },
    {
      "cell_type": "code",
      "metadata": {
        "id": "C7_kr4MJeesw"
      },
      "source": [
        "import pandas as pd\n",
        "import numpy as np\n",
        "\n",
        "from surprise import Reader,Dataset,SVD\n",
        "\n",
        "##Read data to made it ready to train on\n",
        "##SVD- singular model decomposition used to create recommendation system\n",
        "\n",
        "\n",
        "from surprise.accuracy import rmse,mae\n",
        "##use to measure error of model\n",
        "\n",
        "from surprise.model_selection import cross_validate\n",
        "##help in testing data\n",
        "\n"
      ],
      "execution_count": null,
      "outputs": []
    },
    {
      "cell_type": "markdown",
      "metadata": {
        "id": "nxLAB3bueesx"
      },
      "source": [
        "## Importing the Data"
      ]
    },
    {
      "cell_type": "code",
      "metadata": {
        "colab": {
          "base_uri": "https://localhost:8080/",
          "height": 195
        },
        "id": "kVPIJNTseesx",
        "outputId": "f4644b46-5658-4d11-d91a-f6435c9f725e"
      },
      "source": [
        "df = pd.read_csv(\"ratings.csv\")\n",
        "df.head()"
      ],
      "execution_count": null,
      "outputs": [
        {
          "output_type": "execute_result",
          "data": {
            "text/html": [
              "<div>\n",
              "<style scoped>\n",
              "    .dataframe tbody tr th:only-of-type {\n",
              "        vertical-align: middle;\n",
              "    }\n",
              "\n",
              "    .dataframe tbody tr th {\n",
              "        vertical-align: top;\n",
              "    }\n",
              "\n",
              "    .dataframe thead th {\n",
              "        text-align: right;\n",
              "    }\n",
              "</style>\n",
              "<table border=\"1\" class=\"dataframe\">\n",
              "  <thead>\n",
              "    <tr style=\"text-align: right;\">\n",
              "      <th></th>\n",
              "      <th>userId</th>\n",
              "      <th>movieId</th>\n",
              "      <th>rating</th>\n",
              "      <th>timestamp</th>\n",
              "    </tr>\n",
              "  </thead>\n",
              "  <tbody>\n",
              "    <tr>\n",
              "      <th>0</th>\n",
              "      <td>1</td>\n",
              "      <td>1</td>\n",
              "      <td>4.0</td>\n",
              "      <td>964982703</td>\n",
              "    </tr>\n",
              "    <tr>\n",
              "      <th>1</th>\n",
              "      <td>1</td>\n",
              "      <td>3</td>\n",
              "      <td>4.0</td>\n",
              "      <td>964981247</td>\n",
              "    </tr>\n",
              "    <tr>\n",
              "      <th>2</th>\n",
              "      <td>1</td>\n",
              "      <td>6</td>\n",
              "      <td>4.0</td>\n",
              "      <td>964982224</td>\n",
              "    </tr>\n",
              "    <tr>\n",
              "      <th>3</th>\n",
              "      <td>1</td>\n",
              "      <td>47</td>\n",
              "      <td>5.0</td>\n",
              "      <td>964983815</td>\n",
              "    </tr>\n",
              "    <tr>\n",
              "      <th>4</th>\n",
              "      <td>1</td>\n",
              "      <td>50</td>\n",
              "      <td>5.0</td>\n",
              "      <td>964982931</td>\n",
              "    </tr>\n",
              "  </tbody>\n",
              "</table>\n",
              "</div>"
            ],
            "text/plain": [
              "   userId  movieId  rating  timestamp\n",
              "0       1        1     4.0  964982703\n",
              "1       1        3     4.0  964981247\n",
              "2       1        6     4.0  964982224\n",
              "3       1       47     5.0  964983815\n",
              "4       1       50     5.0  964982931"
            ]
          },
          "metadata": {
            "tags": []
          },
          "execution_count": 59
        }
      ]
    },
    {
      "cell_type": "markdown",
      "metadata": {
        "id": "iqp3mApNeesy"
      },
      "source": [
        "## Drop column that isn't important for predications"
      ]
    },
    {
      "cell_type": "code",
      "metadata": {
        "colab": {
          "base_uri": "https://localhost:8080/",
          "height": 195
        },
        "id": "DZPoWA6Qeesy",
        "outputId": "992da21b-e769-4d1a-f470-5be564929793"
      },
      "source": [
        "df.drop('timestamp', axis=1, inplace=True)\n",
        "df.head()"
      ],
      "execution_count": null,
      "outputs": [
        {
          "output_type": "execute_result",
          "data": {
            "text/html": [
              "<div>\n",
              "<style scoped>\n",
              "    .dataframe tbody tr th:only-of-type {\n",
              "        vertical-align: middle;\n",
              "    }\n",
              "\n",
              "    .dataframe tbody tr th {\n",
              "        vertical-align: top;\n",
              "    }\n",
              "\n",
              "    .dataframe thead th {\n",
              "        text-align: right;\n",
              "    }\n",
              "</style>\n",
              "<table border=\"1\" class=\"dataframe\">\n",
              "  <thead>\n",
              "    <tr style=\"text-align: right;\">\n",
              "      <th></th>\n",
              "      <th>userId</th>\n",
              "      <th>movieId</th>\n",
              "      <th>rating</th>\n",
              "    </tr>\n",
              "  </thead>\n",
              "  <tbody>\n",
              "    <tr>\n",
              "      <th>0</th>\n",
              "      <td>1</td>\n",
              "      <td>1</td>\n",
              "      <td>4.0</td>\n",
              "    </tr>\n",
              "    <tr>\n",
              "      <th>1</th>\n",
              "      <td>1</td>\n",
              "      <td>3</td>\n",
              "      <td>4.0</td>\n",
              "    </tr>\n",
              "    <tr>\n",
              "      <th>2</th>\n",
              "      <td>1</td>\n",
              "      <td>6</td>\n",
              "      <td>4.0</td>\n",
              "    </tr>\n",
              "    <tr>\n",
              "      <th>3</th>\n",
              "      <td>1</td>\n",
              "      <td>47</td>\n",
              "      <td>5.0</td>\n",
              "    </tr>\n",
              "    <tr>\n",
              "      <th>4</th>\n",
              "      <td>1</td>\n",
              "      <td>50</td>\n",
              "      <td>5.0</td>\n",
              "    </tr>\n",
              "  </tbody>\n",
              "</table>\n",
              "</div>"
            ],
            "text/plain": [
              "   userId  movieId  rating\n",
              "0       1        1     4.0\n",
              "1       1        3     4.0\n",
              "2       1        6     4.0\n",
              "3       1       47     5.0\n",
              "4       1       50     5.0"
            ]
          },
          "metadata": {
            "tags": []
          },
          "execution_count": 60
        }
      ]
    },
    {
      "cell_type": "markdown",
      "metadata": {
        "id": "Nf8YWADceesz"
      },
      "source": [
        "## Check for any missing values. "
      ]
    },
    {
      "cell_type": "code",
      "metadata": {
        "colab": {
          "base_uri": "https://localhost:8080/"
        },
        "id": "BaPTXjGKeesz",
        "outputId": "6ce01d1a-1b1a-43c4-9ffa-273118938f6a"
      },
      "source": [
        "df.isnull().sum()"
      ],
      "execution_count": null,
      "outputs": [
        {
          "output_type": "execute_result",
          "data": {
            "text/plain": [
              "userId     0\n",
              "movieId    0\n",
              "rating     0\n",
              "dtype: int64"
            ]
          },
          "metadata": {
            "tags": []
          },
          "execution_count": 61
        }
      ]
    },
    {
      "cell_type": "markdown",
      "metadata": {
        "id": "oXZmRW9Heesz"
      },
      "source": [
        "## Data exploration and analysis to analyzing data sets to get their main characteristics."
      ]
    },
    {
      "cell_type": "code",
      "metadata": {
        "colab": {
          "base_uri": "https://localhost:8080/"
        },
        "id": "DQOQdKBQeesz",
        "outputId": "a6ed3dbd-84c3-4409-ef46-6118d25613e0"
      },
      "source": [
        "##no. of unique movies/users\n",
        "n_movies = df[\"movieId\"].nunique()\n",
        "n_users = df[\"userId\"].nunique()\n",
        "print(f'Number of unique movies: {n_movies}')\n",
        "print(f'Number of unique users: {n_users}')"
      ],
      "execution_count": null,
      "outputs": [
        {
          "output_type": "stream",
          "text": [
            "Number of unique movies: 9724\n",
            "Number of unique users: 610\n"
          ],
          "name": "stdout"
        }
      ]
    },
    {
      "cell_type": "markdown",
      "metadata": {
        "id": "FwRnZn76ees0"
      },
      "source": [
        "## Checking Sparsity of our data\n",
        "\n",
        "### Sparsity (%) = (No of missing values/ (Total Values))X100"
      ]
    },
    {
      "cell_type": "code",
      "metadata": {
        "colab": {
          "base_uri": "https://localhost:8080/"
        },
        "id": "nsj-7tXFees0",
        "outputId": "0a1a17f4-dd8e-4d5d-8969-3a792ef058a2"
      },
      "source": [
        "available_ratings = df['rating'].count()\n",
        "total_ratings = n_movies*n_users\n",
        "missing_ratings = total_ratings - available_ratings\n",
        "sparsity = (missing_ratings/total_ratings)*100\n",
        "print(sparsity)\n",
        "\n",
        "##prefer to have low sparsity to have more data to train on "
      ],
      "execution_count": null,
      "outputs": [
        {
          "output_type": "stream",
          "text": [
            "98.30003169443864\n"
          ],
          "name": "stdout"
        }
      ]
    },
    {
      "cell_type": "markdown",
      "metadata": {
        "id": "EaAQtNuEees0"
      },
      "source": [
        "## Ratings Distribution using barplot"
      ]
    },
    {
      "cell_type": "code",
      "metadata": {
        "colab": {
          "base_uri": "https://localhost:8080/",
          "height": 288
        },
        "id": "pw737YSGees1",
        "outputId": "904b54fd-9f16-4c77-b5cb-8ceb6061241e"
      },
      "source": [
        "df['rating'].value_counts().plot(kind = 'bar')"
      ],
      "execution_count": null,
      "outputs": [
        {
          "output_type": "execute_result",
          "data": {
            "text/plain": [
              "<matplotlib.axes._subplots.AxesSubplot at 0x7f4dba70a0b8>"
            ]
          },
          "metadata": {
            "tags": []
          },
          "execution_count": 64
        },
        {
          "output_type": "display_data",
          "data": {
            "image/png": "[encoded data removed]",
            "text/plain": [
              "<Figure size 432x288 with 1 Axes>"
            ]
          },
          "metadata": {
            "tags": [],
            "needs_background": "light"
          }
        }
      ]
    },
    {
      "cell_type": "markdown",
      "metadata": {
        "id": "nJmx5MsPees1"
      },
      "source": [
        "## Dimensionality Reduction\n",
        "\n",
        "### reducing the dimensionality of the dataset by filter out rarely rated movies and rarely rating users\n",
        "\n",
        "#### 1. Filter movies with less than 3 ratings"
      ]
    },
    {
      "cell_type": "code",
      "metadata": {
        "id": "cEKfeRD3ees1"
      },
      "source": [
        "filter_mov = df['movieId'].value_counts() > 3\n",
        "filter_mov = filter_mov[filter_mov].index.tolist()"
      ],
      "execution_count": null,
      "outputs": []
    },
    {
      "cell_type": "markdown",
      "metadata": {
        "id": "9ew1E4Mcees1"
      },
      "source": [
        "#### 2 Filter users with less than 3 movies rated"
      ]
    },
    {
      "cell_type": "code",
      "metadata": {
        "id": "yEgzJ5QBees2"
      },
      "source": [
        "filter_users = df['userId'].value_counts() > 3\n",
        "filter_users = filter_users[filter_users].index.tolist()"
      ],
      "execution_count": null,
      "outputs": []
    },
    {
      "cell_type": "markdown",
      "metadata": {
        "id": "_Fh50IOJees2"
      },
      "source": [
        "#### 3. Removing rarely rated movies and rarely rating users"
      ]
    },
    {
      "cell_type": "code",
      "metadata": {
        "colab": {
          "base_uri": "https://localhost:8080/"
        },
        "id": "NK6qkShCees2",
        "outputId": "7c64255f-da2e-46db-e1f5-b3ac245d6e62"
      },
      "source": [
        "print(f'ORIGINAL SHAPE : {df.shape}')\n",
        "df = df[(df['movieId'].isin(filter_mov)) & df['userId'].isin(filter_users)]\n",
        "print(f'NEW SHAPE : {df.shape}')"
      ],
      "execution_count": null,
      "outputs": [
        {
          "output_type": "stream",
          "text": [
            "ORIGINAL SHAPE : (100836, 3)\n",
            "NEW SHAPE : (92394, 3)\n"
          ],
          "name": "stdout"
        }
      ]
    },
    {
      "cell_type": "markdown",
      "metadata": {
        "id": "G5k-vhr2ees2"
      },
      "source": [
        "## Creating Training and Testing Datasets\n",
        "\n",
        "#### 1. Columns used for training"
      ]
    },
    {
      "cell_type": "code",
      "metadata": {
        "id": "vGBK9JIwees2"
      },
      "source": [
        "cols = ['userId','movieId','rating']"
      ],
      "execution_count": null,
      "outputs": []
    },
    {
      "cell_type": "markdown",
      "metadata": {
        "id": "rj3QxP96ees3"
      },
      "source": [
        "#### 2. Creating surprise dataset"
      ]
    },
    {
      "cell_type": "code",
      "metadata": {
        "id": "iUma8iSuees3"
      },
      "source": [
        "reader = Reader(rating_scale = (0.5,5))\n",
        "data = Dataset.load_from_df(df[cols],reader)"
      ],
      "execution_count": null,
      "outputs": []
    },
    {
      "cell_type": "markdown",
      "metadata": {
        "id": "jI6C0ckOees3"
      },
      "source": [
        "#### 3. Create Train-set and Prediction-set"
      ]
    },
    {
      "cell_type": "code",
      "metadata": {
        "id": "a5pieSssees3"
      },
      "source": [
        "train_set = data.build_full_trainset()\n",
        "antiset = train_set.build_anti_testset() # all combination of movies and users"
      ],
      "execution_count": null,
      "outputs": []
    },
    {
      "cell_type": "markdown",
      "metadata": {
        "id": "oWzTs9cfees3"
      },
      "source": [
        "### Creating and training the model\n",
        "\n",
        "#### Creating the model\n",
        "\n",
        "##### SVD (Singular Value Decomposition)   ,  Interaction Matrix = A X B X C\n"
      ]
    },
    {
      "cell_type": "code",
      "metadata": {
        "id": "nEEPDmKpees4"
      },
      "source": [
        "# row user\n",
        "# column movie\n",
        "# svd is to reduce matrix to its constitutes parts\n",
        "# take sparsh matrix and multiply its factors\n",
        "algo = SVD(n_epochs = 25, verbose = True)\n",
        "#fit the data and go to train the data 25times (n_epochs)\n",
        "#verbose : to check if traing set is working or not"
      ],
      "execution_count": null,
      "outputs": []
    },
    {
      "cell_type": "markdown",
      "metadata": {
        "id": "aASuIujBees4"
      },
      "source": [
        "### Training the model\n",
        "\n",
        "#### Mean Absolute Error (MAE): MAE measures the average magnitude of the errors in a set of predictions, without considering their direction.\n",
        "\n",
        "#### Root mean squared error (RMSE): RMSE is the square root of the average of squared differences between prediction and actual observation.\n"
      ]
    },
    {
      "cell_type": "code",
      "metadata": {
        "colab": {
          "base_uri": "https://localhost:8080/"
        },
        "id": "9pjhXBtSees4",
        "outputId": "339cc48c-e817-4248-a8e2-09842b97830a"
      },
      "source": [
        "cross_validate(algo,data,measures = ['RMSE','MAE'],cv=5, verbose = True)\n",
        "print('TRAING DONE')\n"
      ],
      "execution_count": null,
      "outputs": [
        {
          "output_type": "stream",
          "text": [
            "Processing epoch 0\n",
            "Processing epoch 1\n",
            "Processing epoch 2\n",
            "Processing epoch 3\n",
            "Processing epoch 4\n",
            "Processing epoch 5\n",
            "Processing epoch 6\n",
            "Processing epoch 7\n",
            "Processing epoch 8\n",
            "Processing epoch 9\n",
            "Processing epoch 10\n",
            "Processing epoch 11\n",
            "Processing epoch 12\n",
            "Processing epoch 13\n",
            "Processing epoch 14\n",
            "Processing epoch 15\n",
            "Processing epoch 16\n",
            "Processing epoch 17\n",
            "Processing epoch 18\n",
            "Processing epoch 19\n",
            "Processing epoch 20\n",
            "Processing epoch 21\n",
            "Processing epoch 22\n",
            "Processing epoch 23\n",
            "Processing epoch 24\n",
            "Processing epoch 0\n",
            "Processing epoch 1\n",
            "Processing epoch 2\n",
            "Processing epoch 3\n",
            "Processing epoch 4\n",
            "Processing epoch 5\n",
            "Processing epoch 6\n",
            "Processing epoch 7\n",
            "Processing epoch 8\n",
            "Processing epoch 9\n",
            "Processing epoch 10\n",
            "Processing epoch 11\n",
            "Processing epoch 12\n",
            "Processing epoch 13\n",
            "Processing epoch 14\n",
            "Processing epoch 15\n",
            "Processing epoch 16\n",
            "Processing epoch 17\n",
            "Processing epoch 18\n",
            "Processing epoch 19\n",
            "Processing epoch 20\n",
            "Processing epoch 21\n",
            "Processing epoch 22\n",
            "Processing epoch 23\n",
            "Processing epoch 24\n",
            "Processing epoch 0\n",
            "Processing epoch 1\n",
            "Processing epoch 2\n",
            "Processing epoch 3\n",
            "Processing epoch 4\n",
            "Processing epoch 5\n",
            "Processing epoch 6\n",
            "Processing epoch 7\n",
            "Processing epoch 8\n",
            "Processing epoch 9\n",
            "Processing epoch 10\n",
            "Processing epoch 11\n",
            "Processing epoch 12\n",
            "Processing epoch 13\n",
            "Processing epoch 14\n",
            "Processing epoch 15\n",
            "Processing epoch 16\n",
            "Processing epoch 17\n",
            "Processing epoch 18\n",
            "Processing epoch 19\n",
            "Processing epoch 20\n",
            "Processing epoch 21\n",
            "Processing epoch 22\n",
            "Processing epoch 23\n",
            "Processing epoch 24\n",
            "Processing epoch 0\n",
            "Processing epoch 1\n",
            "Processing epoch 2\n",
            "Processing epoch 3\n",
            "Processing epoch 4\n",
            "Processing epoch 5\n",
            "Processing epoch 6\n",
            "Processing epoch 7\n",
            "Processing epoch 8\n",
            "Processing epoch 9\n",
            "Processing epoch 10\n",
            "Processing epoch 11\n",
            "Processing epoch 12\n",
            "Processing epoch 13\n",
            "Processing epoch 14\n",
            "Processing epoch 15\n",
            "Processing epoch 16\n",
            "Processing epoch 17\n",
            "Processing epoch 18\n",
            "Processing epoch 19\n",
            "Processing epoch 20\n",
            "Processing epoch 21\n",
            "Processing epoch 22\n",
            "Processing epoch 23\n",
            "Processing epoch 24\n",
            "Processing epoch 0\n",
            "Processing epoch 1\n",
            "Processing epoch 2\n",
            "Processing epoch 3\n",
            "Processing epoch 4\n",
            "Processing epoch 5\n",
            "Processing epoch 6\n",
            "Processing epoch 7\n",
            "Processing epoch 8\n",
            "Processing epoch 9\n",
            "Processing epoch 10\n",
            "Processing epoch 11\n",
            "Processing epoch 12\n",
            "Processing epoch 13\n",
            "Processing epoch 14\n",
            "Processing epoch 15\n",
            "Processing epoch 16\n",
            "Processing epoch 17\n",
            "Processing epoch 18\n",
            "Processing epoch 19\n",
            "Processing epoch 20\n",
            "Processing epoch 21\n",
            "Processing epoch 22\n",
            "Processing epoch 23\n",
            "Processing epoch 24\n",
            "Evaluating RMSE, MAE of algorithm SVD on 5 split(s).\n",
            "\n",
            "                  Fold 1  Fold 2  Fold 3  Fold 4  Fold 5  Mean    Std     \n",
            "RMSE (testset)    0.8490  0.8685  0.8587  0.8621  0.8591  0.8595  0.0063  \n",
            "MAE (testset)     0.6519  0.6636  0.6598  0.6597  0.6615  0.6593  0.0039  \n",
            "Fit time          5.95    5.96    5.97    5.93    6.00    5.96    0.02    \n",
            "Test time         0.13    0.14    0.13    0.13    0.15    0.14    0.01    \n",
            "TRAING DONE\n"
          ],
          "name": "stdout"
        }
      ]
    },
    {
      "cell_type": "markdown",
      "metadata": {
        "id": "Bb5YWEl9ees4"
      },
      "source": [
        "### Predictions Analysis\n",
        "#### 1. Predict ratings for all pairs (user, items) that are NOT in the training set.\n"
      ]
    },
    {
      "cell_type": "code",
      "metadata": {
        "id": "8LI4rPRBees4"
      },
      "source": [
        "pred = algo.test(antiset)      "
      ],
      "execution_count": null,
      "outputs": []
    },
    {
      "cell_type": "code",
      "metadata": {
        "colab": {
          "base_uri": "https://localhost:8080/"
        },
        "id": "lYrhPnj1ees5",
        "outputId": "dc7e600a-679a-49aa-e150-13a29891e731"
      },
      "source": [
        "pred[0]\n",
        "#user(uid) rated the movie(iid) as (est) rating , average rating of iid is r_ui,{if pred is possible or not}"
      ],
      "execution_count": null,
      "outputs": [
        {
          "output_type": "execute_result",
          "data": {
            "text/plain": [
              "Prediction(uid=1, iid=318, r_ui=3.529119856267723, est=5, details={'was_impossible': False})"
            ]
          },
          "metadata": {
            "tags": []
          },
          "execution_count": 56
        }
      ]
    },
    {
      "cell_type": "markdown",
      "metadata": {
        "id": "fu8GF7q_ees5"
      },
      "source": [
        "#### 2. Recommending top 3 movies movies based on predictions"
      ]
    },
    {
      "cell_type": "code",
      "metadata": {
        "colab": {
          "base_uri": "https://localhost:8080/"
        },
        "id": "g_-_uQTOees5",
        "outputId": "b3d54585-c605-4a82-d134-bd74e78db19d"
      },
      "source": [
        "from collections import defaultdict\n",
        "def get_top_n(pred,n):\n",
        "    top_n = defaultdict(list)\n",
        "    for uid,iid,_,est,_ in pred:\n",
        "        top_n[uid].append((iid,est))\n",
        "        \n",
        "    for uid,user_ratings in top_n.items():\n",
        "        user_ratings.sort(key =lambda x: x[1],reverse = True)\n",
        "        top_n[uid]=user_ratings[:n]\n",
        "    return top_n\n",
        "    pass\n",
        "top_n = get_top_n(pred,n=5)\n",
        "for uid,user_ratings in top_n.items():\n",
        "    print(uid,[iid for (iid,rating) in user_ratings])"
      ],
      "execution_count": null,
      "outputs": [
        {
          "output_type": "stream",
          "text": [
            "1 [318, 48516, 68157, 898, 904]\n",
            "2 [1228, 6016, 593, 2571, 3972]\n",
            "3 [2858, 2019, 1136, 3996, 6016]\n",
            "4 [1228, 924, 1244, 1148, 3359]\n",
            "5 [912, 1178, 1203, 750, 5995]\n",
            "6 [1276, 910, 1240, 5690, 3037]\n",
            "7 [3328, 1136, 1223, 4016, 923]\n",
            "8 [260, 858, 4011, 1200, 1250]\n",
            "9 [2571, 2959, 50, 1089, 527]\n",
            "10 [1235, 1104, 318, 1172, 1250]\n",
            "11 [1250, 1197, 3275, 527, 50]\n",
            "12 [50, 260, 527, 954, 1089]\n",
            "13 [318, 50, 260, 527, 2959]\n",
            "14 [2542, 858, 2324, 899, 1104]\n",
            "15 [1193, 177593, 4034, 68157, 1148]\n",
            "16 [910, 1258, 2160, 1204, 928]\n",
            "17 [1148, 1250, 1223, 923, 1104]\n",
            "18 [1266, 1233, 741, 1178, 720]\n",
            "19 [1204, 27773, 1080, 912, 1262]\n",
            "20 [750, 318, 1198, 1272, 1]\n",
            "21 [1258, 527, 1225, 1197, 142488]\n",
            "22 [1089, 47, 1198, 1208, 4011]\n",
            "23 [2160, 4011, 3972, 3266, 1178]\n",
            "24 [2959, 2858, 1250, 1208, 1258]\n",
            "25 [50, 356, 1196, 1219, 2329]\n",
            "26 [1148, 2959, 720, 1104, 1223]\n",
            "27 [44555, 3949, 1258, 2959, 7371]\n",
            "28 [1104, 2761, 81591, 2324, 1228]\n",
            "29 [1197, 1196, 898, 5690, 928]\n",
            "30 [1213, 48516, 899, 904, 908]\n",
            "31 [1148, 1035, 55820, 318, 1258]\n",
            "32 [899, 1250, 2324, 1178, 48516]\n",
            "33 [6377, 750, 2502, 1258, 1136]\n",
            "34 [3266, 1201, 6350, 1223, 2761]\n",
            "35 [750, 177593, 1262, 1214, 2324]\n",
            "36 [2959, 142488, 47, 46578, 3275]\n",
            "37 [50, 4011, 1104, 1258, 1266]\n",
            "38 [5690, 2160, 1198, 904, 1250]\n",
            "39 [4011, 2329, 72226, 7361, 916]\n",
            "40 [1204, 1259, 778, 1203, 1090]\n",
            "41 [899, 1250, 2565, 1178, 27773]\n",
            "42 [954, 1258, 293, 2300, 1250]\n",
            "43 [6, 50, 101, 260, 441]\n",
            "44 [1136, 1197, 168252, 1193, 1262]\n",
            "45 [79132, 3275, 1215, 44555, 112852]\n",
            "46 [1204, 2959, 899, 1276, 58559]\n",
            "47 [913, 898, 7361, 3683, 55820]\n",
            "48 [1104, 1223, 720, 778, 1204]\n",
            "49 [50, 7361, 1193, 1221, 1258]\n",
            "50 [2858, 4878, 1250, 1196, 1228]\n",
            "51 [1270, 3147, 720, 1178, 2959]\n",
            "52 [50, 110, 2329, 720, 750]\n",
            "53 [6, 47, 50, 101, 110]\n",
            "54 [750, 5690, 4993, 7361, 1198]\n",
            "55 [7361, 5995, 50, 3451, 1203]\n",
            "56 [3275, 1223, 1262, 898, 265]\n",
            "57 [7153, 318, 246, 4993, 1233]\n",
            "58 [2019, 2324, 27773, 6787, 4226]\n",
            "59 [1272, 7371, 4993, 1276, 3683]\n",
            "60 [4993, 750, 1223, 866, 5690]\n",
            "61 [750, 898, 1136, 177593, 58559]\n",
            "62 [750, 1136, 904, 92535, 50]\n",
            "63 [1233, 1230, 3147, 908, 44555]\n",
            "64 [750, 1272, 4995, 912, 3275]\n",
            "65 [1210, 1250, 175, 922, 260]\n",
            "66 [1204, 858, 750, 142488, 866]\n",
            "67 [7371, 750, 1223, 6711, 4973]\n",
            "68 [74510, 1066, 928, 5014, 115149]\n",
            "69 [1200, 4973, 1278, 1214, 953]\n",
            "70 [1198, 3451, 3275, 2959, 2571]\n",
            "71 [2571, 3972, 1198, 4011, 2959]\n",
            "72 [1104, 969, 1250, 2324, 1276]\n",
            "73 [866, 1213, 589, 296, 1204]\n",
            "74 [50, 750, 2324, 527, 1104]\n",
            "75 [318, 96829, 750, 6350, 3037]\n",
            "76 [527, 50, 5418, 1178, 2028]\n",
            "77 [1200, 318, 1212, 3266, 750]\n",
            "78 [913, 2160, 2959, 1276, 866]\n",
            "79 [318, 750, 1250, 608, 2160]\n",
            "80 [1136, 1178, 1198, 1089, 215]\n",
            "81 [527, 1178, 2571, 1204, 260]\n",
            "82 [1104, 750, 2150, 318, 2542]\n",
            "83 [296, 55247, 4878, 1673, 1193]\n",
            "84 [750, 2160, 4993, 142488, 5902]\n",
            "85 [720, 318, 1223, 899, 1250]\n",
            "86 [750, 908, 899, 1203, 3683]\n",
            "87 [778, 2959, 527, 1080, 1223]\n",
            "88 [1250, 1197, 858, 260, 1104]\n",
            "89 [1104, 2160, 5878, 2542, 50]\n",
            "90 [858, 593, 912, 1204, 318]\n",
            "91 [913, 1204, 5690, 529, 8665]\n",
            "92 [2959, 3275, 1136, 296, 318]\n",
            "93 [457, 1089, 1136, 1197, 1213]\n",
            "94 [1213, 58559, 2324, 1223, 750]\n",
            "95 [296, 318, 750, 2959, 2019]\n",
            "96 [1204, 1136, 1266, 63082, 1219]\n",
            "97 [50, 1035, 1199, 260, 177593]\n",
            "98 [109374, 68237, 5992, 318, 8132]\n",
            "99 [1223, 2019, 720, 7090, 913]\n",
            "100 [1104, 1250, 58559, 3730, 750]\n",
            "101 [318, 110, 1197, 92535, 1104]\n",
            "102 [2959, 527, 2067, 720, 3147]\n",
            "103 [1136, 46578, 866, 122918, 1178]\n",
            "104 [898, 1104, 4878, 912, 908]\n",
            "105 [80906, 1673, 866, 2067, 1136]\n",
            "106 [720, 1221, 2160, 1262, 1204]\n",
            "107 [1223, 2959, 5690, 3213, 912]\n",
            "108 [1104, 1178, 318, 2959, 527]\n",
            "109 [1213, 1223, 2959, 44555, 1204]\n",
            "110 [318, 1215, 1210, 866, 260]\n",
            "111 [912, 590, 1203, 919, 6016]\n",
            "112 [1250, 44195, 296, 2959, 2300]\n",
            "113 [2959, 50, 1250, 318, 1704]\n",
            "114 [177593, 296, 1204, 750, 1223]\n",
            "115 [318, 1136, 1262, 1954, 1270]\n",
            "116 [1148, 1283, 6350, 55247, 928]\n",
            "117 [750, 2959, 912, 1250, 3451]\n",
            "118 [318, 1250, 1201, 1272, 912]\n",
            "119 [750, 7371, 541, 933, 1204]\n",
            "120 [1136, 1196, 4973, 1178, 2542]\n",
            "121 [1204, 858, 5617, 898, 899]\n",
            "122 [1206, 2858, 6874, 112552, 720]\n",
            "123 [720, 750, 858, 3508, 1250]\n",
            "124 [750, 527, 1136, 2160, 1250]\n",
            "125 [541, 750, 4011, 2762, 1252]\n",
            "126 [105504, 56782, 1276, 4642, 2019]\n",
            "127 [899, 44555, 318, 3147, 1228]\n",
            "128 [750, 142488, 1250, 2959, 296]\n",
            "129 [899, 750, 318, 2324, 1178]\n",
            "130 [5690, 3147, 527, 1104, 1196]\n",
            "131 [1266, 2959, 265, 720, 7371]\n",
            "132 [1242, 1276, 44555, 142488, 6016]\n",
            "133 [750, 898, 1235, 1213, 1250]\n",
            "134 [720, 1250, 2571, 68157, 527]\n",
            "135 [750, 1252, 969, 923, 1250]\n",
            "136 [260, 1204, 1262, 1250, 105504]\n",
            "137 [1276, 1201, 4973, 6016, 3683]\n",
            "138 [318, 750, 44555, 1223, 142488]\n",
            "139 [750, 2959, 2571, 5690, 48516]\n",
            "140 [3114, 1223, 58559, 2324, 720]\n",
            "141 [1276, 2324, 1104, 1178, 923]\n",
            "142 [750, 318, 4993, 1136, 1250]\n",
            "143 [318, 1217, 177593, 1272, 1262]\n",
            "144 [50, 2542, 1266, 1199, 58559]\n",
            "145 [2959, 2858, 1178, 1242, 6350]\n",
            "146 [318, 2959, 6711, 778, 1252]\n",
            "147 [50, 1104, 3683, 7371, 1276]\n",
            "148 [2542, 4973, 68157, 318, 2160]\n",
            "149 [858, 1193, 296, 58, 50]\n",
            "150 [2019, 750, 1089, 1208, 318]\n",
            "151 [2571, 1201, 1258, 2028, 2160]\n",
            "152 [720, 1258, 3836, 3949, 4993]\n",
            "153 [54286, 3090, 1247, 3681, 7371]\n",
            "154 [58559, 54001, 1223, 750, 933]\n",
            "155 [72226, 318, 1233, 898, 56782]\n",
            "156 [142488, 1215, 5618, 1945, 3972]\n",
            "157 [58559, 1223, 898, 2571, 318]\n",
            "158 [858, 318, 1136, 2019, 908]\n",
            "159 [1250, 1283, 3037, 4011, 176]\n",
            "160 [1079, 2019, 2160, 3421, 750]\n",
            "161 [720, 1411, 1276, 177593, 750]\n",
            "162 [110, 2959, 541, 6016, 1178]\n",
            "163 [750, 3508, 260, 778, 1250]\n",
            "164 [1089, 1272, 1250, 750, 92259]\n",
            "165 [2959, 750, 3275, 1204, 2858]\n",
            "166 [58559, 1215, 1178, 2804, 110]\n",
            "167 [1104, 899, 1250, 1223, 1270]\n",
            "168 [2324, 2959, 50, 1266, 260]\n",
            "169 [50, 1258, 908, 1250, 2324]\n",
            "170 [1250, 898, 1104, 27611, 2324]\n",
            "171 [50, 356, 1617, 2542, 2959]\n",
            "172 [1204, 3508, 6016, 541, 3037]\n",
            "173 [4011, 1204, 922, 56782, 1193]\n",
            "174 [3451, 858, 1247, 1276, 122918]\n",
            "175 [1206, 1136, 527, 1250, 72226]\n",
            "176 [750, 4011, 7361, 356, 1291]\n",
            "177 [1262, 2289, 1277, 1209, 7371]\n",
            "178 [750, 1233, 933, 1247, 1199]\n",
            "179 [2959, 1196, 1276, 750, 1203]\n",
            "180 [2324, 527, 1262, 72226, 1250]\n",
            "181 [318, 1240, 923, 953, 1262]\n",
            "182 [46578, 68237, 38061, 1203, 5225]\n",
            "183 [1258, 1250, 1262, 527, 356]\n",
            "184 [750, 7361, 3683, 1206, 1201]\n",
            "185 [2959, 142488, 720, 318, 750]\n",
            "186 [72226, 1219, 5995, 177593, 1250]\n",
            "187 [4973, 1278, 898, 1704, 858]\n",
            "188 [1250, 318, 1148, 1213, 1262]\n",
            "189 [928, 1270, 778, 1204, 1234]\n",
            "190 [750, 5690, 1198, 112552, 1208]\n",
            "191 [4993, 2571, 858, 4226, 72226]\n",
            "192 [1198, 318, 1234, 898, 750]\n",
            "193 [1225, 3451, 1201, 2324, 1233]\n",
            "194 [2959, 1178, 1250, 2019, 1272]\n",
            "195 [1136, 912, 898, 142488, 1193]\n",
            "196 [318, 3275, 1250, 5690, 4973]\n",
            "197 [1178, 44555, 928, 778, 1148]\n",
            "198 [899, 79132, 49272, 1261, 175]\n",
            "199 [1845, 2019, 2160, 1967, 924]\n",
            "200 [6711, 750, 44555, 1136, 50]\n",
            "201 [912, 928, 1148, 1223, 1250]\n",
            "202 [1178, 527, 3037, 2160, 4973]\n",
            "203 [933, 750, 2329, 1704, 5690]\n",
            "204 [720, 750, 79132, 318, 50]\n",
            "205 [750, 2959, 2019, 27611, 1136]\n",
            "206 [50, 49272, 1266, 2959, 68157]\n",
            "207 [72226, 2571, 2324, 1261, 1233]\n",
            "208 [527, 260, 50, 1270, 1104]\n",
            "209 [750, 1204, 1215, 858, 4973]\n",
            "210 [4011, 750, 1197, 858, 318]\n",
            "211 [2324, 527, 1250, 750, 3275]\n",
            "212 [1276, 1204, 1673, 1262, 908]\n",
            "213 [1250, 27611, 2324, 44195, 38061]\n",
            "214 [750, 1213, 866, 296, 3683]\n",
            "215 [1276, 899, 3451, 1272, 7371]\n",
            "216 [541, 750, 1196, 1240, 1204]\n",
            "217 [1197, 928, 1248, 1250, 4306]\n",
            "218 [177593, 720, 3037, 296, 908]\n",
            "219 [1214, 1266, 5618, 1193, 1225]\n",
            "220 [112852, 4993, 63082, 1136, 1221]\n",
            "221 [1178, 6350, 1262, 2160, 2324]\n",
            "222 [1193, 3275, 318, 1172, 1252]\n",
            "223 [27611, 1272, 4878, 1203, 750]\n",
            "224 [1136, 898, 3275, 1178, 1252]\n",
            "225 [318, 1203, 7361, 1204, 1258]\n",
            "226 [1223, 110, 923, 1953, 1250]\n",
            "227 [4973, 1215, 4993, 2324, 44555]\n",
            "228 [527, 4973, 2959, 6787, 1283]\n",
            "229 [142488, 1204, 2324, 127098, 750]\n",
            "230 [6711, 720, 4703, 2324, 55118]\n",
            "231 [318, 50, 4993, 215, 3275]\n",
            "232 [1213, 4011, 27773, 50, 2324]\n",
            "233 [4011, 750, 56782, 899, 1221]\n",
            "234 [27611, 4878, 2324, 1250, 1104]\n",
            "235 [260, 4011, 50, 1250, 1204]\n",
            "236 [2959, 32587, 260, 2324, 50]\n",
            "237 [750, 260, 1178, 1198, 4993]\n",
            "238 [356, 318, 7371, 3275, 778]\n",
            "239 [750, 2300, 527, 44195, 898]\n",
            "240 [1198, 4011, 5971, 541, 969]\n",
            "241 [720, 1283, 2329, 1252, 898]\n",
            "242 [858, 1252, 720, 50, 1203]\n",
            "243 [47, 1197, 1213, 2858, 6350]\n",
            "244 [1262, 1203, 3508, 527, 908]\n",
            "245 [1203, 356, 1208, 1252, 1204]\n",
            "246 [527, 750, 1215, 1136, 1252]\n",
            "247 [7371, 1233, 44555, 778, 6350]\n",
            "248 [750, 1178, 2959, 1204, 1276]\n",
            "249 [1136, 1252, 6350, 923, 1148]\n",
            "250 [1266, 1201, 4973, 2858, 858]\n",
            "251 [50, 750, 1136, 1230, 1233]\n",
            "252 [318, 2959, 1262, 4011, 215]\n",
            "253 [4226, 527, 1223, 904, 1266]\n",
            "254 [3147, 778, 1104, 720, 56782]\n",
            "255 [318, 527, 260, 953, 1250]\n",
            "256 [527, 3201, 1204, 1250, 55118]\n",
            "257 [50, 3683, 2318, 112552, 177593]\n",
            "258 [912, 1203, 50, 1252, 1148]\n",
            "259 [2858, 720, 1136, 3147, 2959]\n",
            "260 [110, 1276, 1204, 1250, 142488]\n",
            "261 [750, 899, 5952, 527, 215]\n",
            "262 [1178, 3275, 1193, 898, 1203]\n",
            "263 [1104, 2959, 1178, 954, 1198]\n",
            "264 [720, 899, 910, 593, 6377]\n",
            "265 [1262, 1207, 8368, 88125, 1104]\n",
            "266 [858, 750, 1234, 1193, 2997]\n",
            "267 [1097, 105504, 318, 1136, 1276]\n",
            "268 [2959, 750, 3683, 1198, 296]\n",
            "269 [2959, 2324, 720, 750, 1178]\n",
            "270 [58559, 750, 318, 50, 593]\n",
            "271 [1250, 750, 1235, 1178, 1148]\n",
            "272 [2028, 1089, 898, 4011, 1210]\n",
            "273 [1136, 527, 6016, 1266, 1262]\n",
            "274 [3508, 6350, 1945, 1041, 4235]\n",
            "275 [27773, 1203, 1214, 1204, 1997]\n",
            "276 [1080, 1089, 1197, 1198, 1208]\n",
            "277 [356, 318, 898, 1089, 56782]\n",
            "278 [750, 3451, 1250, 2160, 260]\n",
            "279 [1089, 1204, 142488, 215, 1148]\n",
            "280 [1250, 1201, 98491, 1258, 928]\n",
            "281 [112290, 51255, 55247, 1197, 5995]\n",
            "282 [1204, 3266, 778, 1228, 1278]\n",
            "283 [858, 750, 2160, 2019, 2067]\n",
            "284 [1148, 1104, 1199, 1234, 4973]\n",
            "285 [2959, 750, 48516, 475, 1250]\n",
            "286 [1262, 1203, 898, 1197, 72226]\n",
            "287 [778, 265, 1258, 750, 356]\n",
            "288 [1221, 4973, 1203, 1104, 6350]\n",
            "289 [720, 318, 1104, 858, 1204]\n",
            "290 [1223, 1203, 3683, 3508, 92535]\n",
            "291 [3147, 913, 356, 318, 541]\n",
            "292 [3972, 72226, 3967, 778, 2791]\n",
            "293 [296, 1258, 50, 2959, 1209]\n",
            "294 [527, 3508, 3037, 1250, 529]\n",
            "295 [58559, 356, 2324, 2248, 866]\n",
            "296 [1136, 1250, 913, 56782, 3275]\n",
            "297 [296, 1261, 2571, 110, 1253]\n",
            "298 [55820, 3508, 5418, 1223, 8874]\n",
            "299 [122918, 750, 1213, 899, 6]\n",
            "300 [908, 912, 928, 899, 1233]\n",
            "301 [2324, 750, 3451, 1262, 5995]\n",
            "302 [318, 6016, 1204, 1223, 2959]\n",
            "303 [1198, 750, 7153, 5952, 1266]\n",
            "304 [1223, 105504, 3435, 1204, 3451]\n",
            "305 [115617, 1028, 3341, 969, 475]\n",
            "306 [318, 750, 1204, 1240, 1219]\n",
            "307 [27773, 1223, 1203, 1274, 79132]\n",
            "308 [4642, 2318, 899, 1304, 4973]\n",
            "309 [750, 38061, 6874, 1178, 4878]\n",
            "310 [953, 608, 1249, 318, 115569]\n",
            "311 [1198, 1089, 2959, 1196, 1274]\n",
            "312 [1250, 2324, 1235, 1276, 2019]\n",
            "313 [33794, 1201, 5418, 1244, 48516]\n",
            "314 [7153, 1196, 1104, 1250, 750]\n",
            "315 [318, 50, 356, 899, 2959]\n",
            "316 [7371, 50, 750, 3201, 898]\n",
            "317 [1215, 1198, 3000, 3996, 1252]\n",
            "318 [720, 1204, 858, 2329, 48516]\n",
            "319 [750, 1250, 1201, 4993, 1136]\n",
            "320 [1136, 1178, 1203, 912, 6016]\n",
            "321 [1201, 750, 1258, 1223, 122918]\n",
            "322 [898, 1223, 112852, 246, 8961]\n",
            "323 [1250, 1178, 4995, 858, 750]\n",
            "324 [296, 908, 50, 318, 1233]\n",
            "325 [2858, 260, 1266, 1272, 1148]\n",
            "326 [750, 1233, 919, 899, 1276]\n",
            "327 [750, 1258, 4848, 2019, 142488]\n",
            "328 [778, 3000, 1446, 27741, 7361]\n",
            "329 [7371, 928, 2324, 926, 111759]\n",
            "330 [3836, 899, 1249, 527, 1250]\n",
            "331 [2804, 1230, 1262, 1223, 1234]\n",
            "332 [1148, 1967, 1223, 51255, 44555]\n",
            "333 [318, 4011, 2959, 720, 177593]\n",
            "334 [1276, 1203, 899, 1219, 2324]\n",
            "335 [1223, 750, 6539, 858, 6711]\n",
            "336 [1196, 750, 3275, 260, 4993]\n",
            "337 [527, 2959, 4011, 27611, 6787]\n",
            "338 [898, 51255, 5618, 1148, 720]\n",
            "339 [1250, 1204, 1136, 1089, 72226]\n",
            "340 [1104, 750, 4993, 3266, 1201]\n",
            "341 [750, 50, 4993, 1178, 2959]\n",
            "342 [356, 318, 260, 56782, 527]\n",
            "343 [750, 1209, 3275, 1252, 1204]\n",
            "344 [1196, 1197, 1250, 922, 58559]\n",
            "345 [750, 1258, 318, 2959, 296]\n",
            "346 [1233, 3836, 2318, 1223, 1266]\n",
            "347 [1266, 1178, 593, 3508, 912]\n",
            "348 [356, 1198, 898, 908, 4034]\n",
            "349 [750, 318, 1204, 1215, 4642]\n",
            "350 [2959, 1258, 1225, 3508, 1196]\n",
            "351 [72226, 1178, 1250, 142488, 5995]\n",
            "352 [954, 904, 3201, 1210, 3275]\n",
            "353 [260, 168252, 2959, 2019, 2324]\n",
            "354 [541, 1276, 1258, 1223, 1217]\n",
            "355 [2571, 27611, 2028, 1673, 296]\n",
            "356 [1204, 1282, 858, 1178, 750]\n",
            "357 [1148, 5618, 265, 1250, 1193]\n",
            "358 [527, 318, 750, 858, 2959]\n",
            "359 [899, 142488, 1250, 1178, 50]\n",
            "360 [1234, 318, 2959, 1270, 750]\n",
            "361 [47, 7371, 105504, 2959, 928]\n",
            "362 [1223, 1204, 750, 1233, 4973]\n",
            "363 [1214, 866, 2959, 4226, 7371]\n",
            "364 [4993, 318, 1223, 2959, 2160]\n",
            "365 [899, 910, 750, 1172, 2997]\n",
            "366 [318, 750, 1104, 2160, 5690]\n",
            "367 [1276, 5690, 1449, 1967, 164179]\n",
            "368 [1204, 1136, 2959, 1223, 1203]\n",
            "369 [50, 1201, 2858, 58559, 1213]\n",
            "370 [750, 3836, 142488, 898, 177593]\n",
            "371 [441, 608, 923, 954, 1089]\n",
            "372 [1223, 2959, 2324, 4011, 215]\n",
            "373 [608, 778, 4973, 912, 1089]\n",
            "374 [1213, 1223, 5617, 858, 1193]\n",
            "375 [750, 1204, 1250, 541, 912]\n",
            "376 [1204, 908, 899, 930, 1178]\n",
            "377 [750, 4973, 778, 296, 318]\n",
            "378 [720, 1204, 899, 1198, 50]\n",
            "379 [750, 1090, 1221, 5618, 2762]\n",
            "380 [2858, 913, 903, 1250, 3468]\n",
            "381 [2858, 177593, 5878, 1673, 898]\n",
            "382 [904, 1148, 1089, 898, 2858]\n",
            "383 [527, 912, 3424, 56782, 1178]\n",
            "384 [2858, 1089, 44555, 318, 2571]\n",
            "385 [1223, 1089, 2804, 1252, 5952]\n",
            "386 [1223, 2324, 858, 1221, 1276]\n",
            "387 [527, 720, 5008, 1178, 3508]\n",
            "388 [318, 50, 2959, 750, 2542]\n",
            "389 [2959, 1089, 1136, 1250, 778]\n",
            "390 [1203, 1233, 50, 750, 1209]\n",
            "391 [1276, 5618, 1235, 919, 1449]\n",
            "392 [541, 2959, 50, 1148, 904]\n",
            "393 [47, 8958, 898, 7361, 6711]\n",
            "394 [318, 912, 296, 1104, 2542]\n",
            "395 [1242, 6350, 3213, 1250, 54997]\n",
            "396 [5952, 1136, 1198, 2571, 750]\n",
            "397 [296, 2019, 1136, 1215, 1178]\n",
            "398 [8368, 3730, 1204, 1073, 1732]\n",
            "399 [899, 898, 912, 1272, 750]\n",
            "400 [527, 2324, 1204, 2019, 32]\n",
            "401 [318, 1250, 720, 1178, 858]\n",
            "402 [1196, 541, 1233, 4011, 908]\n",
            "403 [750, 318, 1208, 1250, 2324]\n",
            "404 [1193, 1203, 7361, 1262, 1204]\n",
            "405 [318, 1201, 44555, 177593, 175]\n",
            "406 [1136, 318, 1262, 3147, 866]\n",
            "407 [720, 50, 930, 7090, 318]\n",
            "408 [1250, 527, 1262, 1223, 44195]\n",
            "409 [2959, 5995, 1266, 50, 4973]\n",
            "410 [1193, 4973, 265, 1258, 356]\n",
            "411 [1089, 1198, 1223, 1221, 1203]\n",
            "412 [296, 866, 3147, 356, 5013]\n",
            "413 [356, 58559, 899, 2324, 750]\n",
            "414 [71899, 1230, 914, 7247, 930]\n",
            "415 [1204, 2542, 778, 51255, 898]\n",
            "416 [1234, 6016, 4993, 1201, 1204]\n",
            "417 [750, 1178, 899, 1266, 1104]\n",
            "418 [1090, 1197, 1234, 4642, 910]\n",
            "419 [899, 750, 6711, 91529, 720]\n",
            "420 [1104, 1204, 969, 2324, 1178]\n",
            "421 [58559, 910, 6787, 866, 296]\n",
            "422 [1148, 48516, 527, 356, 1198]\n",
            "423 [68157, 541, 858, 5617, 1204]\n",
            "424 [142488, 750, 1276, 1172, 1178]\n",
            "425 [1178, 2324, 6711, 7371, 3949]\n",
            "426 [1104, 953, 1411, 1258, 1262]\n",
            "427 [1204, 2959, 1193, 1214, 1262]\n",
            "428 [4226, 1201, 2019, 750, 1213]\n",
            "429 [356, 2959, 750, 1704, 2019]\n",
            "430 [2959, 110, 32, 3275, 260]\n",
            "431 [318, 1204, 778, 4973, 858]\n",
            "432 [720, 926, 6, 99114, 2324]\n",
            "433 [2858, 1283, 4973, 2571, 6377]\n",
            "434 [1221, 1250, 168252, 1201, 1198]\n",
            "435 [356, 1204, 1148, 56782, 3037]\n",
            "436 [1234, 1203, 1262, 910, 1250]\n",
            "437 [750, 3037, 541, 1215, 923]\n",
            "438 [750, 1198, 50, 1250, 1104]\n",
            "439 [1204, 899, 2959, 7361, 750]\n",
            "440 [750, 2571, 142488, 1136, 1197]\n",
            "441 [1213, 318, 720, 898, 899]\n",
            "442 [1223, 1262, 109374, 3147, 168252]\n",
            "443 [750, 2160, 1251, 899, 930]\n",
            "444 [750, 1235, 4993, 1178, 778]\n",
            "445 [3147, 50, 318, 1250, 1249]\n",
            "446 [260, 1252, 1204, 318, 1200]\n",
            "447 [50, 2959, 1136, 2571, 1233]\n",
            "448 [92535, 750, 904, 969, 1203]\n",
            "449 [858, 356, 296, 7361, 5690]\n",
            "450 [750, 527, 318, 2019, 1266]\n",
            "451 [750, 177593, 904, 858, 912]\n",
            "452 [50, 1213, 2329, 2542, 2580]\n",
            "453 [1204, 105504, 4642, 750, 3836]\n",
            "454 [318, 750, 898, 177593, 720]\n",
            "455 [1262, 1266, 2959, 2324, 1209]\n",
            "456 [318, 1198, 1089, 1196, 898]\n",
            "457 [1178, 318, 105504, 3275, 1204]\n",
            "458 [1089, 2571, 750, 1136, 1732]\n",
            "459 [1203, 1080, 750, 318, 1136]\n",
            "460 [750, 3275, 1204, 1250, 50]\n",
            "461 [778, 908, 1262, 1732, 1228]\n",
            "462 [3836, 177593, 7371, 8874, 175]\n",
            "463 [318, 5690, 750, 2959, 1223]\n",
            "464 [1198, 1272, 904, 1089, 68157]\n",
            "465 [318, 1235, 1136, 1223, 923]\n",
            "466 [720, 1673, 1178, 142488, 933]\n",
            "467 [318, 750, 48516, 1250, 1234]\n",
            "468 [928, 750, 1197, 76093, 1276]\n",
            "469 [4979, 1223, 246, 720, 1148]\n",
            "470 [1250, 58559, 1204, 922, 1291]\n",
            "471 [177593, 1198, 908, 3213, 1262]\n",
            "472 [527, 1258, 1262, 3147, 177593]\n",
            "473 [750, 1204, 1223, 1193, 5618]\n",
            "474 [177593, 1251, 68157, 104879, 72226]\n",
            "475 [1136, 1258, 2329, 2502, 2959]\n",
            "476 [4011, 1193, 1250, 260, 750]\n",
            "477 [858, 50, 1221, 3578, 1197]\n",
            "478 [858, 750, 318, 1204, 7361]\n",
            "479 [541, 1954, 928, 1221, 1196]\n",
            "480 [912, 56782, 1252, 27773, 1148]\n",
            "481 [1262, 1178, 318, 1204, 1234]\n",
            "482 [318, 750, 2959, 104879, 1258]\n",
            "483 [720, 66371, 1252, 73344, 1233]\n",
            "484 [1673, 1276, 908, 307, 1028]\n",
            "485 [750, 1136, 1204, 4993, 778]\n",
            "486 [260, 750, 741, 858, 1198]\n",
            "487 [1276, 1250, 1196, 1270, 899]\n",
            "488 [260, 1210, 1204, 1196, 2502]\n",
            "489 [260, 55820, 1217, 527, 1233]\n",
            "490 [1223, 318, 1250, 1178, 2542]\n",
            "491 [2858, 2019, 541, 913, 1204]\n",
            "492 [58559, 27611, 1213, 1104, 2398]\n",
            "493 [1089, 318, 2858, 778, 1228]\n",
            "494 [2959, 1089, 904, 318, 750]\n",
            "495 [296, 593, 608, 1136, 1197]\n",
            "496 [260, 1196, 6016, 541, 1276]\n",
            "497 [1225, 1228, 912, 720, 1178]\n",
            "498 [750, 2571, 1234, 1104, 912]\n",
            "499 [3275, 1198, 318, 2959, 7361]\n",
            "500 [50, 142488, 933, 4993, 296]\n",
            "501 [4011, 2571, 1258, 858, 1235]\n",
            "502 [50, 750, 1233, 296, 2571]\n",
            "503 [1204, 177593, 913, 589, 866]\n",
            "504 [750, 1136, 6016, 2959, 2067]\n",
            "505 [58559, 1250, 898, 1199, 1209]\n",
            "506 [608, 4973, 593, 750, 50]\n",
            "507 [527, 2324, 1234, 1304, 913]\n",
            "508 [318, 260, 1193, 527, 1266]\n",
            "509 [318, 44555, 720, 1204, 1219]\n",
            "510 [68157, 1215, 3451, 58559, 912]\n",
            "511 [750, 1250, 898, 1197, 720]\n",
            "512 [2959, 720, 3949, 858, 1262]\n",
            "513 [912, 898, 1178, 5995, 1276]\n",
            "514 [4011, 1221, 1262, 541, 2761]\n",
            "515 [47, 110, 1136, 720, 898]\n",
            "516 [68157, 3275, 318, 5995, 50]\n",
            "517 [3555, 8961, 1225, 7842, 908]\n",
            "518 [1136, 1104, 1197, 2329, 318]\n",
            "519 [750, 1304, 928, 55247, 1148]\n",
            "520 [1203, 1262, 1233, 2959, 898]\n",
            "521 [750, 858, 4973, 5618, 1204]\n",
            "522 [1223, 720, 2324, 899, 1104]\n",
            "523 [47, 50, 260, 1196, 1213]\n",
            "524 [27611, 527, 1223, 1199, 3949]\n",
            "525 [171763, 1234, 923, 1276, 898]\n",
            "526 [1250, 750, 969, 27611, 1258]\n",
            "527 [1193, 4878, 55247, 3266, 1178]\n",
            "528 [1204, 47, 1089, 1193, 3275]\n",
            "529 [318, 296, 3266, 858, 2324]\n",
            "530 [750, 318, 3037, 527, 1250]\n",
            "531 [318, 2571, 898, 1193, 1197]\n",
            "532 [4011, 1204, 1234, 7371, 1223]\n",
            "533 [1276, 168252, 1204, 1233, 7371]\n",
            "534 [858, 175, 50, 750, 1242]\n",
            "535 [318, 1221, 1028, 4993, 1201]\n",
            "536 [750, 56782, 1193, 904, 2357]\n",
            "537 [2959, 1204, 720, 1203, 1219]\n",
            "538 [356, 1213, 2959, 3147, 318]\n",
            "539 [912, 105504, 1198, 1136, 3275]\n",
            "540 [527, 318, 1089, 720, 1258]\n",
            "541 [1104, 3037, 1276, 2357, 1223]\n",
            "542 [1223, 928, 1198, 6787, 1270]\n",
            "543 [6, 260, 553, 733, 1089]\n",
            "544 [356, 1219, 1258, 1617, 2329]\n",
            "545 [318, 50, 899, 58559, 2959]\n",
            "546 [750, 1136, 5952, 296, 2571]\n",
            "547 [1104, 1204, 1178, 1201, 318]\n",
            "548 [913, 750, 720, 68157, 1250]\n",
            "549 [142488, 898, 296, 1213, 50]\n",
            "550 [1178, 750, 68157, 898, 7361]\n",
            "551 [2318, 1178, 44195, 1258, 66934]\n",
            "552 [260, 1204, 50, 1198, 2858]\n",
            "553 [318, 3508, 260, 4993, 3836]\n",
            "554 [1198, 5995, 177593, 1250, 27611]\n",
            "555 [109374, 4979, 56782, 1299, 750]\n",
            "556 [318, 3683, 4995, 50, 899]\n",
            "557 [7361, 1258, 913, 1228, 1252]\n",
            "558 [6016, 2959, 105504, 55820, 969]\n",
            "559 [1104, 2959, 858, 1204, 4011]\n",
            "560 [750, 318, 1250, 1204, 1178]\n",
            "561 [1276, 1221, 1148, 1201, 1203]\n",
            "562 [899, 2019, 1204, 142488, 1276]\n",
            "563 [318, 50, 750, 527, 1250]\n",
            "564 [750, 608, 50, 293, 142488]\n",
            "565 [1204, 866, 1233, 858, 2571]\n",
            "566 [1221, 1250, 750, 858, 720]\n",
            "567 [898, 1089, 2542, 1233, 2858]\n",
            "568 [1089, 750, 56782, 318, 1221]\n",
            "569 [1250, 260, 720, 953, 1104]\n",
            "570 [1203, 1204, 50, 928, 720]\n",
            "571 [910, 110, 3000, 750, 2019]\n",
            "572 [2959, 2324, 1249, 1148, 1178]\n",
            "573 [750, 922, 105504, 527, 97304]\n",
            "574 [1104, 1276, 2959, 1215, 4011]\n",
            "575 [750, 5618, 720, 1250, 1197]\n",
            "576 [858, 1282, 750, 1262, 7451]\n",
            "577 [2959, 720, 2329, 2067, 50]\n",
            "578 [1178, 1104, 1258, 1228, 778]\n",
            "579 [2959, 5690, 720, 1209, 750]\n",
            "580 [58559, 1275, 215, 866, 79132]\n",
            "581 [750, 3451, 858, 1197, 720]\n",
            "582 [318, 750, 1203, 1208, 1197]\n",
            "583 [1148, 2959, 1136, 318, 1276]\n",
            "584 [1197, 1198, 2019, 922, 105504]\n",
            "585 [47, 50, 1178, 318, 1704]\n",
            "586 [50, 296, 1136, 1219, 2959]\n",
            "587 [4226, 1266, 58559, 55247, 112290]\n",
            "588 [858, 7153, 750, 2571, 1136]\n",
            "589 [924, 750, 2324, 4993, 4973]\n",
            "590 [27611, 899, 1223, 168252, 2019]\n",
            "591 [1196, 1136, 63082, 1719, 1212]\n",
            "592 [1196, 6787, 1204, 858, 1178]\n",
            "593 [750, 177593, 2542, 1208, 6787]\n",
            "594 [553, 1031, 1097, 2542, 2997]\n",
            "595 [1136, 527, 541, 1250, 2959]\n",
            "596 [2858, 109374, 1213, 1276, 750]\n",
            "597 [527, 318, 750, 4979, 1262]\n",
            "598 [3147, 750, 318, 356, 1203]\n",
            "599 [6350, 3508, 71899, 1193, 1250]\n",
            "600 [5995, 48516, 1272, 27773, 1250]\n",
            "601 [750, 1223, 1213, 922, 1208]\n",
            "602 [2959, 58559, 2858, 1250, 1233]\n",
            "603 [168252, 112552, 1266, 2288, 1476]\n",
            "604 [50, 858, 1204, 2571, 1258]\n",
            "605 [1196, 1250, 318, 4011, 3578]\n",
            "606 [1276, 1178, 27611, 1233, 866]\n",
            "607 [1233, 356, 969, 926, 7371]\n",
            "608 [79132, 1198, 1223, 1237, 111759]\n",
            "609 [1223, 58559, 1250, 2571, 750]\n",
            "610 [1204, 1387, 3275, 913, 1266]\n"
          ],
          "name": "stdout"
        }
      ]
    },
    {
      "cell_type": "code",
      "metadata": {
        "id": "YbdI_FDgfCP6"
      },
      "source": [
        ""
      ],
      "execution_count": null,
      "outputs": []
    }
  ]
}
